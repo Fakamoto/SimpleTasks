{
  "nbformat": 4,
  "nbformat_minor": 0,
  "metadata": {
    "colab": {
      "name": "Copia de Ejercicios_Diccionario_Archivos.ipynb",
      "provenance": [],
      "collapsed_sections": []
    },
    "kernelspec": {
      "name": "python3",
      "display_name": "Python 3"
    },
    "language_info": {
      "name": "python"
    }
  },
  "cells": [
    {
      "cell_type": "markdown",
      "metadata": {
        "id": "vS3T7l2PqJ4Y"
      },
      "source": [
        "## Ejercicios Diccionarios y archivos\n",
        "\n",
        "Una empresa de lógistica posee una base de clientes con la siguiente informacion:\n",
        "\n",
        "```\n",
        "idClient: (int)\n",
        "  Razon Social: (string)\n",
        "  cuit: (string)\n",
        "  direccion: (string)\n",
        "```\n",
        "\n",
        "Por otro lado la empresa cuenta con una base de los pedidos realizados por los clientes, dicha base cuenta con la siguiente estructura:\n",
        "\n",
        "```\n",
        "idPedido: (int)\n",
        "  idCliente: (int)\n",
        "  producto: (string)\n",
        "  cantidad: (int)\n",
        "```\n",
        "\n",
        "Completar los siguiente ítems:\n",
        "\n",
        "1. Crear una función que permita la carga de clientes y los guarde en un archivo (Utilizar manejo de excepciones)\n",
        "\n",
        "2. Crear una función que permita la carga de pedidos y los guarde en un archivo (Utilizar manejo de excepciones)\n",
        "\n",
        "3. Crear una función que imprima por pantalla el listado de clientes.\n",
        "\n",
        "4. Crear una función que imprima por pantalla el listado de pedidos.\n",
        "\n",
        "5. [BONUS] Crear una función que le pase el id or razón social de un cliente y me liste todos los pedidos realizados. \n",
        "\n",
        "\n",
        "Consideraciones:\n",
        "* Utilizar funciones\n",
        "* Utilizar diccionarios anidados\n",
        "* De ser posible, importar librería json para la gestión de archivos.\n",
        "\n",
        "Para escribir archivos json usar un bloque similar al debajo descripto.\n",
        "\n",
        "```\n",
        "filename = './sample_data/username.json'\n",
        "with open(filename, 'w') as f:\n",
        "  json.dump(username, f)\n",
        "```\n",
        "\n",
        "Para leer archivos json usar un bloque similar al debajo descripto.\n",
        "\n",
        "```\n",
        "with open(filename) as f:\n",
        "  username = json.load(f)\n",
        "\n",
        "```\n",
        "\n",
        "\n"
      ]
    },
    {
      "cell_type": "code",
      "metadata": {
        "id": "I8vvA2OlV0Np",
        "colab": {
          "base_uri": "https://localhost:8080/"
        },
        "outputId": "d7544034-82ef-422c-fb6e-694b0662f54e"
      },
      "source": [
        "# Ejercicio 1\n",
        "import json\n",
        "path_clientes = \"./clients.json\"\n",
        "lista_de_clientes = []\n",
        "\n",
        "\n",
        "\n",
        "# Funciones\n",
        "def carga_clientes():\n",
        "  idclient = int(input(\"ingrese su id: \"))\n",
        "  razon_social = input(\"ingrese razon social: \")    \n",
        "  cuit = input(\"ingrese su cuit: \")\n",
        "  direccion = input(\"ingrese su direccion: \")\n",
        "  cliente = {\"idclient\" : idclient, \"razon_social\" : razon_social, \"cuit\" : cuit, \"direccion\" : direccion}\n",
        "  return cliente\n",
        "\n",
        "def repeticion_carga_cliente():\n",
        "  cantidad = int(input(\"cuantos clientes desea cargar?\\n\"))\n",
        "  for i in range(cantidad):\n",
        "    nuevo_cliente = carga_clientes()\n",
        "    lista_de_clientes.append(nuevo_cliente)\n",
        "  return lista_de_clientes\n",
        "\n",
        "def archivo_clientes():\n",
        "  contenido_clientes = repeticion_carga_cliente()\n",
        "  try:\n",
        "    with open(path_clientes,\"w\") as f:\n",
        "      json.dump(contenido_clientes, f)\n",
        "  except:\n",
        "    print(\"hubo un error 1, vuelva a intentarlo\")\n",
        "\n",
        "\n",
        "def visualizacion_archivo(path_archivo):\n",
        "  with open(path_archivo, \"r\") as f:\n",
        "    muestra = json.load(f)\n",
        "  return muestra\n",
        "\n",
        "\n",
        "# Ejecucion \n",
        "archivo_clientes()"
      ],
      "execution_count": null,
      "outputs": [
        {
          "output_type": "stream",
          "text": [
            "cuantos clientes desea cargar? 1\n",
            "ingrese su id: 1\n",
            "ingrese razon social: 1\n",
            "ingrese su cuit: 1\n",
            "ingrese su direccion: 1\n"
          ],
          "name": "stdout"
        }
      ]
    },
    {
      "cell_type": "code",
      "metadata": {
        "id": "9Z5mMrnap4IM",
        "colab": {
          "base_uri": "https://localhost:8080/"
        },
        "outputId": "ea06fd40-2525-4979-dbe0-57e7d161beb1"
      },
      "source": [
        "# Ejercicio 2\n",
        "import json\n",
        "path_pedidos = \"./pedidos.json\"\n",
        "lista_de_pedidos = []\n",
        "\n",
        "\n",
        "# Funciones \n",
        "def carga_pedidos():\n",
        "  idpedido = int(input(\"\\ningrese su id de pedido: \"))\n",
        "  idcliente = int(input(\"ingrese su id de cliente: \"))    \n",
        "  producto = input(\"ingrese el nombre del producto: \")\n",
        "  cantidad_producto = int(input(\"ingrese la cantidad del producto: \"))\n",
        "  pedido = {\"idpedido\" : idpedido, \"idcliente\" : idcliente, \"producto\" : producto, \"cantidad_producto\" : cantidad_producto}\n",
        "  return pedido\n",
        "\n",
        "def repeticion_carga_pedidos():\n",
        "  cantidad = int(input(\"cuantos pedidos desea cargar? \"))\n",
        "  for i in range(cantidad):\n",
        "    nuevo_pedido = carga_pedidos()\n",
        "    lista_de_pedidos.append(nuevo_pedido)\n",
        "  return lista_de_pedidos\n",
        "\n",
        "def archivo_pedidos():\n",
        "  contenido_pedidos = repeticion_carga_pedidos()\n",
        "  with open(path_pedidos,\"w\") as f:\n",
        "      json.dump(contenido_pedidos, f)\n",
        "  \n",
        "  \n",
        "def visualizacion_archivo(path_archivo):\n",
        "  with open(path_archivo, \"r\") as f:\n",
        "    muestra = json.load(f)\n",
        "  return muestra\n",
        "\n",
        "\n",
        "\n",
        "# Ejecucion \n",
        "archivo_pedidos()\n",
        "visualizacion_archivo(path_pedidos)\n",
        "\n"
      ],
      "execution_count": null,
      "outputs": [
        {
          "output_type": "stream",
          "text": [
            "cuantos pedidos desea cargar? 1\n",
            "\n",
            "ingrese su id de pedido: 1\n",
            "ingrese su id de cliente: 1\n",
            "ingrese el nombre del producto: 1\n",
            "ingrese la cantidad del producto: 1\n"
          ],
          "name": "stdout"
        },
        {
          "output_type": "execute_result",
          "data": {
            "text/plain": [
              "[{'cantidad_producto': 1, 'idcliente': 1, 'idpedido': 1, 'producto': '1'}]"
            ]
          },
          "metadata": {
            "tags": []
          },
          "execution_count": 17
        }
      ]
    },
    {
      "cell_type": "code",
      "metadata": {
        "id": "jrT6VIxtuNBK",
        "colab": {
          "base_uri": "https://localhost:8080/"
        },
        "outputId": "f29b45e4-d7c1-44e4-9bff-0ccbdfb2bef4"
      },
      "source": [
        "# Ejercicio 3\n",
        "import json\n",
        "path_clientes = \"./clients.json\"\n",
        "path_pedidos = \"./pedidos.json\"\n",
        "\n",
        "# Funciones\n",
        "def visualizacion_archivo(path_archivo):\n",
        "  with open(path_archivo, \"r\") as f:\n",
        "    muestra = json.load(f)\n",
        "  return muestra\n",
        "\n",
        "\n",
        "\n",
        "# Ejecucion\n",
        "visualizacion_archivo(path_clientes)\n"
      ],
      "execution_count": null,
      "outputs": [
        {
          "output_type": "execute_result",
          "data": {
            "text/plain": [
              "[{'cuit': '1', 'direccion': '1', 'idclient': 1, 'razon_social': '1'}]"
            ]
          },
          "metadata": {
            "tags": []
          },
          "execution_count": 18
        }
      ]
    },
    {
      "cell_type": "code",
      "metadata": {
        "colab": {
          "base_uri": "https://localhost:8080/"
        },
        "id": "SxH_fzT_26s4",
        "outputId": "7e29a05e-b0da-47b4-b52b-7fdd80f7b242"
      },
      "source": [
        "# Ejercicio 4\n",
        "import json\n",
        "path_clientes = \"./clients.json\"\n",
        "path_pedidos = \"./pedidos.json\"\n",
        "\n",
        "# Funciones\n",
        "def visualizacion_archivo(path_archivo):\n",
        "  with open(path_archivo, \"r\") as f:\n",
        "    muestra = json.load(f)\n",
        "  return muestra\n",
        "\n",
        "\n",
        "\n",
        "# Ejecucion\n",
        "visualizacion_archivo(path_pedidos)"
      ],
      "execution_count": null,
      "outputs": [
        {
          "output_type": "execute_result",
          "data": {
            "text/plain": [
              "[{'cantidad_producto': 1, 'idcliente': 1, 'idpedido': 1, 'producto': '1'}]"
            ]
          },
          "metadata": {
            "tags": []
          },
          "execution_count": 19
        }
      ]
    },
    {
      "cell_type": "code",
      "metadata": {
        "colab": {
          "base_uri": "https://localhost:8080/",
          "height": 53
        },
        "id": "jejf5lMU3Mix",
        "outputId": "62fb5951-d308-44ac-ba9b-4688fafc581f"
      },
      "source": [
        "# Bonus\n",
        "\n",
        "\n",
        "# Funciones\n",
        "def bonus(id):\n",
        "  dicc_pedidos = visualizacion_archivo(path_pedidos)\n",
        "  for v in dicc_pedidos:\n",
        "    if v[\"idcliente\"] == id:\n",
        "      pedido_producto = v[\"producto\"]\n",
        "      pedido_cantidad_producto = v[\"cantidad_producto\"]\n",
        "  \n",
        "  \n",
        "  try:\n",
        "    mensaje = f\"el id mencionado ha realizado el siguiente pedido, producto: {pedido_producto}, cantidad: {pedido_cantidad_producto}\"\n",
        "    return mensaje\n",
        "  except:\n",
        "    print(\"Se presentó un error en la busqueda\")\n",
        "\n",
        "\n",
        "# Ejecucion\n",
        "bonus_id = int(input(\"ingresar id de la persona para revisar los pedidos de la misma: \"))\n",
        "bonus(bonus_id)"
      ],
      "execution_count": null,
      "outputs": [
        {
          "output_type": "stream",
          "text": [
            "ingresar id de la persona para revisar los pedidos de la misma: 1\n"
          ],
          "name": "stdout"
        },
        {
          "output_type": "execute_result",
          "data": {
            "application/vnd.google.colaboratory.intrinsic+json": {
              "type": "string"
            },
            "text/plain": [
              "'el id mencionado ha realizado el siguiente pedido, producto: 1, cantidad: 1'"
            ]
          },
          "metadata": {
            "tags": []
          },
          "execution_count": 21
        }
      ]
    }
  ]
}